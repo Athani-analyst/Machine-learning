{
 "cells": [
  {
   "cell_type": "markdown",
   "id": "aeaeb81b",
   "metadata": {},
   "source": [
    "# Approaching categorical variables\n",
    "                                                                Athani Analyst"
   ]
  },
  {
   "cell_type": "markdown",
   "id": "0fc96848",
   "metadata": {},
   "source": [
    "#### What are categorical variables?\n",
    "Categorical variables/features are any feature type can be classified into two major\n",
    "types:\n",
    "\n",
    "• Nominal\n",
    "\n",
    "• Ordinal\n",
    "\n",
    "Nominal variables are variables that have two or more categories which do not\n",
    "have any kind of order associated with them. For example, if gender is classified\n",
    "into two groups, i.e. male and female, it can be considered as a nominal variable.\n",
    "\n",
    "Ordinal variables, on the other hand, have “levels” or categories with a particular\n",
    "order associated with them. For example, an ordinal categorical variable can be a\n",
    "feature with three different levels: low, medium and high. Order is important."
   ]
  },
  {
   "cell_type": "markdown",
   "id": "612deaf2",
   "metadata": {},
   "source": [
    "As far as definitions are concerned, we can also categorize categorical variables as\n",
    "binary, i.e., a categorical variable with only two categories. \n",
    "\n",
    "Some even talk about\n",
    "a type called “cyclic” for categorical variables. Cyclic variables are present in\n",
    "“cycles” for example, days in a week: Sunday, Monday, Tuesday, Wednesday,\n",
    "Thursday, Friday and Saturday. After Saturday, we have Sunday again.\n",
    "This is a\n",
    "cycle. Another example would be hours in a day if we consider them to be\n",
    "categories.\n",
    "\n",
    " "
   ]
  },
  {
   "cell_type": "code",
   "execution_count": 59,
   "id": "9408a719",
   "metadata": {},
   "outputs": [],
   "source": [
    "import pandas as pd"
   ]
  },
  {
   "cell_type": "code",
   "execution_count": 150,
   "id": "b65699ee",
   "metadata": {},
   "outputs": [],
   "source": [
    "df=pd.read_csv('cat_dat.csv')"
   ]
  },
  {
   "cell_type": "code",
   "execution_count": 151,
   "id": "d743712f",
   "metadata": {},
   "outputs": [
    {
     "data": {
      "text/html": [
       "<div>\n",
       "<style scoped>\n",
       "    .dataframe tbody tr th:only-of-type {\n",
       "        vertical-align: middle;\n",
       "    }\n",
       "\n",
       "    .dataframe tbody tr th {\n",
       "        vertical-align: top;\n",
       "    }\n",
       "\n",
       "    .dataframe thead th {\n",
       "        text-align: right;\n",
       "    }\n",
       "</style>\n",
       "<table border=\"1\" class=\"dataframe\">\n",
       "  <thead>\n",
       "    <tr style=\"text-align: right;\">\n",
       "      <th></th>\n",
       "      <th>id</th>\n",
       "      <th>bin_0</th>\n",
       "      <th>bin_1</th>\n",
       "      <th>bin_2</th>\n",
       "      <th>bin_3</th>\n",
       "      <th>bin_4</th>\n",
       "      <th>nom_0</th>\n",
       "      <th>nom_1</th>\n",
       "      <th>nom_2</th>\n",
       "      <th>nom_3</th>\n",
       "      <th>...</th>\n",
       "      <th>nom_9</th>\n",
       "      <th>ord_0</th>\n",
       "      <th>ord_1</th>\n",
       "      <th>ord_2</th>\n",
       "      <th>ord_3</th>\n",
       "      <th>ord_4</th>\n",
       "      <th>ord_5</th>\n",
       "      <th>day</th>\n",
       "      <th>month</th>\n",
       "      <th>target</th>\n",
       "    </tr>\n",
       "  </thead>\n",
       "  <tbody>\n",
       "    <tr>\n",
       "      <th>0</th>\n",
       "      <td>0</td>\n",
       "      <td>0</td>\n",
       "      <td>0</td>\n",
       "      <td>0</td>\n",
       "      <td>T</td>\n",
       "      <td>Y</td>\n",
       "      <td>Green</td>\n",
       "      <td>Triangle</td>\n",
       "      <td>Snake</td>\n",
       "      <td>Finland</td>\n",
       "      <td>...</td>\n",
       "      <td>2f4cb3d51</td>\n",
       "      <td>2</td>\n",
       "      <td>Grandmaster</td>\n",
       "      <td>Cold</td>\n",
       "      <td>h</td>\n",
       "      <td>D</td>\n",
       "      <td>kr</td>\n",
       "      <td>2</td>\n",
       "      <td>2</td>\n",
       "      <td>0</td>\n",
       "    </tr>\n",
       "    <tr>\n",
       "      <th>1</th>\n",
       "      <td>1</td>\n",
       "      <td>0</td>\n",
       "      <td>1</td>\n",
       "      <td>0</td>\n",
       "      <td>T</td>\n",
       "      <td>Y</td>\n",
       "      <td>Green</td>\n",
       "      <td>Trapezoid</td>\n",
       "      <td>Hamster</td>\n",
       "      <td>Russia</td>\n",
       "      <td>...</td>\n",
       "      <td>f83c56c21</td>\n",
       "      <td>1</td>\n",
       "      <td>Grandmaster</td>\n",
       "      <td>Hot</td>\n",
       "      <td>a</td>\n",
       "      <td>A</td>\n",
       "      <td>bF</td>\n",
       "      <td>7</td>\n",
       "      <td>8</td>\n",
       "      <td>0</td>\n",
       "    </tr>\n",
       "    <tr>\n",
       "      <th>2</th>\n",
       "      <td>2</td>\n",
       "      <td>0</td>\n",
       "      <td>0</td>\n",
       "      <td>0</td>\n",
       "      <td>F</td>\n",
       "      <td>Y</td>\n",
       "      <td>Blue</td>\n",
       "      <td>Trapezoid</td>\n",
       "      <td>Lion</td>\n",
       "      <td>Russia</td>\n",
       "      <td>...</td>\n",
       "      <td>ae6800dd0</td>\n",
       "      <td>1</td>\n",
       "      <td>Expert</td>\n",
       "      <td>Lava Hot</td>\n",
       "      <td>h</td>\n",
       "      <td>R</td>\n",
       "      <td>Jc</td>\n",
       "      <td>7</td>\n",
       "      <td>2</td>\n",
       "      <td>0</td>\n",
       "    </tr>\n",
       "    <tr>\n",
       "      <th>3</th>\n",
       "      <td>3</td>\n",
       "      <td>0</td>\n",
       "      <td>1</td>\n",
       "      <td>0</td>\n",
       "      <td>F</td>\n",
       "      <td>Y</td>\n",
       "      <td>Red</td>\n",
       "      <td>Trapezoid</td>\n",
       "      <td>Snake</td>\n",
       "      <td>Canada</td>\n",
       "      <td>...</td>\n",
       "      <td>8270f0d71</td>\n",
       "      <td>1</td>\n",
       "      <td>Grandmaster</td>\n",
       "      <td>Boiling Hot</td>\n",
       "      <td>i</td>\n",
       "      <td>D</td>\n",
       "      <td>kW</td>\n",
       "      <td>2</td>\n",
       "      <td>1</td>\n",
       "      <td>1</td>\n",
       "    </tr>\n",
       "    <tr>\n",
       "      <th>4</th>\n",
       "      <td>4</td>\n",
       "      <td>0</td>\n",
       "      <td>0</td>\n",
       "      <td>0</td>\n",
       "      <td>F</td>\n",
       "      <td>N</td>\n",
       "      <td>Red</td>\n",
       "      <td>Trapezoid</td>\n",
       "      <td>Lion</td>\n",
       "      <td>Canada</td>\n",
       "      <td>...</td>\n",
       "      <td>b164b72a7</td>\n",
       "      <td>1</td>\n",
       "      <td>Grandmaster</td>\n",
       "      <td>Freezing</td>\n",
       "      <td>a</td>\n",
       "      <td>R</td>\n",
       "      <td>qP</td>\n",
       "      <td>7</td>\n",
       "      <td>8</td>\n",
       "      <td>0</td>\n",
       "    </tr>\n",
       "  </tbody>\n",
       "</table>\n",
       "<p>5 rows × 25 columns</p>\n",
       "</div>"
      ],
      "text/plain": [
       "   id  bin_0  bin_1  bin_2 bin_3 bin_4  nom_0      nom_1    nom_2    nom_3  \\\n",
       "0   0      0      0      0     T     Y  Green   Triangle    Snake  Finland   \n",
       "1   1      0      1      0     T     Y  Green  Trapezoid  Hamster   Russia   \n",
       "2   2      0      0      0     F     Y   Blue  Trapezoid     Lion   Russia   \n",
       "3   3      0      1      0     F     Y    Red  Trapezoid    Snake   Canada   \n",
       "4   4      0      0      0     F     N    Red  Trapezoid     Lion   Canada   \n",
       "\n",
       "   ...      nom_9 ord_0        ord_1        ord_2 ord_3 ord_4  ord_5 day  \\\n",
       "0  ...  2f4cb3d51     2  Grandmaster         Cold     h     D     kr   2   \n",
       "1  ...  f83c56c21     1  Grandmaster          Hot     a     A     bF   7   \n",
       "2  ...  ae6800dd0     1       Expert     Lava Hot     h     R     Jc   7   \n",
       "3  ...  8270f0d71     1  Grandmaster  Boiling Hot     i     D     kW   2   \n",
       "4  ...  b164b72a7     1  Grandmaster     Freezing     a     R     qP   7   \n",
       "\n",
       "  month target  \n",
       "0     2      0  \n",
       "1     8      0  \n",
       "2     2      0  \n",
       "3     1      1  \n",
       "4     8      0  \n",
       "\n",
       "[5 rows x 25 columns]"
      ]
     },
     "execution_count": 151,
     "metadata": {},
     "output_type": "execute_result"
    }
   ],
   "source": [
    "df.head()"
   ]
  },
  {
   "cell_type": "markdown",
   "id": "e5485bab",
   "metadata": {},
   "source": [
    "The dataset consists of all kinds of categorical variables:\n",
    "• Nominal\n",
    "• Ordinal\n",
    "• Cyclical\n",
    "• Binary"
   ]
  },
  {
   "cell_type": "code",
   "execution_count": 30,
   "id": "414ff5e2",
   "metadata": {},
   "outputs": [
    {
     "name": "stdout",
     "output_type": "stream",
     "text": [
      "[0 1]\n",
      "[0 1]\n",
      "[0 1]\n",
      "['T' 'F']\n",
      "['Y' 'N']\n",
      "['Green' 'Blue' 'Red']\n",
      "['Triangle' 'Trapezoid' 'Polygon' 'Square' 'Star' 'Circle']\n",
      "['Snake' 'Hamster' 'Lion' 'Cat' 'Dog' 'Axolotl']\n",
      "['Finland' 'Russia' 'Canada' 'Costa Rica' 'China' 'India']\n",
      "['Bassoon' 'Piano' 'Theremin' 'Oboe']\n",
      "['50f116bcf' 'b3b4d25d0' '3263bdce5' 'f12246592' '5b0f5acd5' '46cab09da'\n",
      " 'be5592604' '72f8028dc' '4604905e7' 'ad95dc0ee' '2ff007c26' 'a35c346aa'\n",
      " 'dbfb714a4' 'e1558b071' '39647c92a' 'ee55b9d67' '416a8f3ab' '91bde92fa'\n",
      " '3aa9329e2' '568550f04' 'caf83c0b5' '908a1b9c9' 'e844a1f66' 'dbc448931'\n",
      " '2979f0d45' '96c73114c' 'b7bb45938' '7da3e4aec' 'be4578201' 'dc07effb0'\n",
      " '88917a066' 'f2d59cf51' '5d18641ff' '9347491f2' '475e79160' 'e70a6270d'\n",
      " '5b1a9f841' 'e0efe9d20' 'd1b1709e8' '9bb7ea2da' '6fec43dd8' '0dee9b39a'\n",
      " '527ded12a' '321bf770e' 'f7821e391' '0de4acd31' '185ba0a59' '4845cc770'\n",
      " 'bdb9fef4a' '3fef1a765' '2cc9e16b9' 'fd04a970f' '81f9d3312' '30a15b6bd'\n",
      " '8dcf8adfb' '83b38aa6b' '74bd42d5f' '5a94fc1d9' '4e1b529f6' '8d5d9f3db'\n",
      " '472efea17' '740fb99a9' '075ceb58b' '0ef5c1879' '640e1fdd5' 'a3f640358'\n",
      " 'c5725677e' '3b5632a0c' '534be2753' '30a530eab' '7ee26092e' 'c0534106d'\n",
      " '713ad10a7' '9ad6558d1' 'ef38568df' 'de04b8750' 'bd40c81f3' 'ade526ba7'\n",
      " '4e28ceffa' '1305d6e77' '3585ff84b' 'b0c8dba76' '33adb4760' '66669a44f'\n",
      " '9ba4e87a7' 'f50eb07ae' '29e7f8525' 'd9becff68' '159a7306f' 'a5c276589'\n",
      " '0870880f6' '92190168b' '5a466e166' 'e7d9ca356' 'd372c8993' 'b0faff28f'\n",
      " 'e5b29c42b' 'b97f51ac4' '778fdbe56' 'f0c1ceee4' '8266050c6' '6f70dc2df'\n",
      " '84b0081ad' '4464569ee' 'e85ec20b5' '91ea3e4dd' 'e6f45aa26' '488406659'\n",
      " '1e6cb96e8' 'f9d17bb93' '40e0157b1' 'e9f44a509' '493de6347' 'f8faea16f'\n",
      " '0eb46e992' '63f642dd9' '1f1702d2f' '71583d387' 'c2843dc45' '2e7f4d636'\n",
      " '6a2269152' '924346656' '6cd0619e0' '91a20b464' '3685a0904' '0de5598a9'\n",
      " '3aabfa2fc' '115a252ba' 'eb69430d6' '05950689f' '037bd73d8' '81264f81f'\n",
      " '19db35594' '005dd4ce3' '20b10a832' 'ddac78300' 'baab29d3d' 'bd7740b93'\n",
      " '524b3f349' '60a44c8f4' '8573fa81a' '35f65a9bf' '372f6d6ce' 'af088d192'\n",
      " 'e52fbf1c8' '49f4b29cc' 'a9ed6dfea' 'b8d451029' 'a3471b9d9' '06eeaf0aa'\n",
      " 'f6c524860' 'df51b96fc' '479fd7aea' 'dd500b26a' '7e9cb0f9a' 'db5e25328'\n",
      " '2d61990e2' '2cadfed8e' 'e428c040e' '4f7d91943' '88707c9ab' '76be0b8b1'\n",
      " '1bd1068d9' '0b3bec656' 'a51e7974e' '85159d577' '96c83ac09' '6c90f81cd'\n",
      " 'a93b89fc9' '0bdf8165a' 'da60580a8' 'f2a6d797b' '7741f57bd' '2a0e95ba1'\n",
      " 'ead12da87' 'e08092732' '176809a41' 'ca82ad111' '17a3709ae' '3271e5526'\n",
      " '4173a0252' '116f7e3e2' 'defc6dd20' 'e9c6fe0f7' '4f2b65e1e' '0870b0a5d'\n",
      " '552e3fdc9' '05d5943a3' '586b51342' '79923828f' '077fd9465' 'f9e5266f9'\n",
      " '6020a8124' '8cf6c9f74' '09a4ad97d' 'b4c8e6595' 'fa0a88fe9' '59e434d8a'\n",
      " '200009fc3' '59497d53c' '77b08badd' 'eb0004a0b' '34ad60330' '3283ca434'\n",
      " '2cac4af40' 'f802a9849' 'c08ba4f4c' '09ed0a686' '5f7065a42' 'a21564cab'\n",
      " '7a12c88d2' '82d1a6dbb' '9ecc58be1' 'd3079098d' '4ebe94c28' '448a66834'\n",
      " '46bd3558d' '91c80026f' '88f104c00' 'f710fca39' '5331f98fb' '1fd0233cd']\n",
      "['3ac1b8814' 'fbcb50fc1' '0922e3cb8' '50d7ad46a' '1fe17a1fd' '29a854620'\n",
      " '3393a0f78' '55eed5058' '3e44d44eb' '8ed6221ae' '153316f52' '6ea52a806'\n",
      " '1795ef28b' '628f3170f' '08b282a6c' '395941181' 'd44f7245a' '78500847e'\n",
      " '9448b8e3b' '9b1c3c8b7' 'be5a0f5a9' '687eaba3e' '5d7c5c023' '92f461454'\n",
      " 'cd8e3a0a7' 'f24d83141' '16dfb662a' 'cefab1020' '508ff88dc' '6d2cd10c5'\n",
      " 'ddb583aa3' '2eadb68c5' '854f72f28' '42b1cc2fd' 'fa2bf5f22' '8fec7bc42'\n",
      " 'fc4518443' 'bc82e0ba0' '1ad744242' '5cbbea089' '8fb440e53' 'af9278b96'\n",
      " '180a3d6cb' 'e10910468' '2ed5a94b0' '2a22b315e' '55a24a71b' 'c3517eaeb'\n",
      " 'cf82b283d' '0b10fcecc' 'a028c07af' 'd213f48ed' '5a5e620b3' 'c023e914a'\n",
      " '9f53d30ad' '2d9852300' '8cc791aa8' '54474e8d8' '36df19a6e' '0bcb379d8'\n",
      " '7dd3f58e9' '975346729' '96c110558' '8bb163a87' 'df5b440ae' 'd760c59b0'\n",
      " 'e3396fbd5' 'f497b97d7' 'd405aebc1' '6c0354890' '8c9d16cc3' '9e0a099c7'\n",
      " 'fac5eff9e' 'c9eedfbc2' '44e4c0bba' 'c8436c277' 'acf5b10dd' 'a405b7cf0'\n",
      " 'dfb9bd114' 'b69c236cb' 'b8caba53f' '126a4f83d' '2df6f79a2' '565a89e93'\n",
      " '29e27ff9d' '2268327b2' 'fb80a804f' 'a406a5f12' '3bac0bd8e' 'ea7a1aaf6'\n",
      " 'ec5064acb' 'f083d48ad' 'd4fd01769' 'fd9370b9e' 'a9925d0e5' '09e796196'\n",
      " '603232dea' 'd43e63dc9' '5194690a0' 'cf8b12b4e' 'dfb457d2a' 'a26bedd00'\n",
      " '3c5d81a52' '3b9693870' '96abdfa66' 'd88fca3ba' 'eeda68203' '487c32dfa'\n",
      " 'c135cdf77' 'd4d727716' '5755f93b2' '642fcc7be' '4c1bdbe7b' 'efa38c99d'\n",
      " '6d7f8c086' '7112aaf8e' 'e0664a4d3' 'aed51f2c9' '02d689659' '7d8bc814a'\n",
      " '70a942fc1' '2cd425e1f' '63d0e6105' 'e77244b50' '839a6bcdb' '18a901239'\n",
      " 'fc613f31d' '0e2f036b5' 'ae67aec36' 'f14fe8bc5' 'fc88900c4' 'fbbdfc611'\n",
      " '71c68195d' '718fd9453' 'c73e4dfe1' '20dc501c6' '89e65bb86' '21e2c2d57'\n",
      " '017eb57f0' 'dee9cf5e9' '9abb2ac1a' 'ec416c384' '0d50f61fd' '36282e811'\n",
      " '113deddc9' 'df184daf2' 'd166613dc' '8bd314488' '1abac47d0' 'fe0cddc2c'\n",
      " '5c4ee13e3' 'f461f837c' '24a1bea30' '498b2bdcb' 'ebd664cd6' 'e2559b9ab'\n",
      " 'b628a222c' 'dc0536549' '2bdc0a5d0' '5cabda141' 'b321e8ee3' '9218550d8'\n",
      " '29b650229' 'f0c4b23ef' '520806ce2' '4f849ad2d' 'e550bcc1b' '34256b89f'\n",
      " '309e105f1' '2f6efc190' 'df91d98af' '8bbe5580d' '3e41282ec' '77ad092c1'\n",
      " 'afebf0803' 'edb3cf6c8' '4e6cc8696' 'b5f4a755a' 'bb219c9ac' '1869e63b0'\n",
      " '32b4b12b1' 'ea64fbdeb' '40ac3fcd5' 'd9004c5c2' '4daee3baf' '9a16c7c8f'\n",
      " '9ceb19dd6' '063f4307d' '85885b27e' '27828c378' '7909ef46d' '8518cecf3'\n",
      " 'baef8ee7b' 'c103290d4' 'cae4fb7f2' '74e0be86d' '882ce2ad7' 'cebefe5b5'\n",
      " '0302f1ffc' '0b23e3352' 'c79a72c72' 'c75b3104a' 'e16557b2b' 'adfb4cba3'\n",
      " '01455237a' 'f36d9a851' '031d49dfc' 'cd225807c' 'c0f1061ee' 'dd1dbed78'\n",
      " '5786b10d7' 'b1faf70a1' 'f425b1c8c' '612641073' 'd76a148ab' 'c36cea1f7'\n",
      " '90ba6c9a6' 'b511f5bff' '6046454de' 'c06f1b9f7' '6f438920f' '6057ca561'\n",
      " 'b1c48d202' '65aae1692' '50e49ea04' 'db64717a3' 'db35bbdcb' '57aa15561'\n",
      " 'bf82c01fa' '5fa8beadb' 'e63f69ba1' '25d3a1087' '28b8e5350' 'ac8c42404'\n",
      " '9972df3b0' '2473094a9' 'c9a951efa' '32be571ee' '5b2d457f3' '9afd9530d'\n",
      " '86021cf04' 'a520e2537' '7e240024b' 'aed128d19' '66e2654cb' '0aeb8fe13'\n",
      " '43b8c397b' 'f134870d4' 'a6542cec0' '8fbaca82e' '4990652ec' '06835761e'\n",
      " 'b9f08dc06' '49bceb215' '97b6a3518' '28645754b' '338b8a987' '8817e18d1'\n",
      " '37868097a' '6c90b0073' 'fa3f6d36f' 'd6f8634af' '7f3c463a8' 'b300717cf'\n",
      " '35f33a8ca' '80b2270f0' 'bd47c2363' 'ad1b42856' '32db19124' 'e495d6f0f'\n",
      " 'd95501ac1' 'fa498a5ae' '2c7fb8434' '5fd7600de' '322121abf' '1ab5e5ad6'\n",
      " '1611d2b45' '4cb66e369' 'd70a70804' '51f28e64c' '6eaaa8418' 'eaaf53f6a'\n",
      " '418e9e936' '3c1c64eaa' '96d5497a4' 'd173ac7ca' '4cf47e292' 'f8c5dc0e0'\n",
      " 'd942d1e82' '1ea13ded7' '46c89ef8d' '966f4a973' '71534b2a8' 'f7e243b5d'\n",
      " 'ec97e8751' 'bc31d6a6d' 'dce959dcb' 'a19d81efe' '8082e0409' '4b967eac4'\n",
      " '11698a0b3' '70994b28a' 'cd2fa6d62' '15ea6e2bb' 'b48077cc4' '8f897ec3c'\n",
      " 'c5cf1fdc4' '73dd803d0' '2546024d1' 'a20513779' '67bb6c9d7' '3c2b12c56'\n",
      " '944239e54' 'b238965eb' 'b73a8ae77' '20636817e' 'd42f2b9ec' 'a566016d6'\n",
      " '126c2e512' 'fd2344f16' '945aa2bc5' '7d13ad097' 'bedc798e7' '81d59974c'\n",
      " 'a78e38dad' '339c0fa05' '23311af90' 'cd94f29d1' '708e87b0e' '12d88c9c3'\n",
      " 'ffc60be1c' 'd2ce6b1c7' '68dd873e4' '6a53b5f5c' '89a937a9f' '78acf1908'\n",
      " '1c34a67d7' '51d5f02c1' '985c40910' 'b83511180' '54efb1985' '788ba7aea'\n",
      " '51477cd88' '19505136a' '309707034' 'beb20ea99' 'e7a7bf2e1' 'cad70d692'\n",
      " '116d9fcd9' '8fd64cb59' '5fc007fd3' '95572215a' '987d29cca' '162fc2192'\n",
      " '7a8736321' '8a34317cb' 'e4d51bdd5' '2936160c7' '67721d105' '097ff91b3'\n",
      " '79a82b7c0' 'c3c8b7b13' 'd83ae1b30' '74e5a0bce' '4fa3092a4' '860bb37b4'\n",
      " '5d47a598c' 'eaa89fbcc' '231233ca9' '2837cf7b8' 'e7073f6a2' '1b36c0b8c'\n",
      " '5ff2c0a8c' '73d7ca889' '5a49dd8f6' '43744dfd9' 'b2480a857' '485fc6466'\n",
      " '705cb7579' '077e720aa' '8d1b72979' '27e7dbafa' 'cbb210c0a' '9a70de492'\n",
      " '91e1a9d16' 'aee98fa47' '0ed70b7b1' 'd5febb6ef' '1537295c3' 'f64fe5bc0'\n",
      " 'e19cd8107' '800577110' '7185a30dc' '3c7643929' '49d1a98ef' '1573e6c5f'\n",
      " 'b3e59b54a' '0958071b5' 'd086fd85e' '3aa0689eb' 'd2c8f2916' 'fc791ebea'\n",
      " 'b639793f9' '944531331' 'd9e884466' 'c7201df85' '3ae0ef9f1' '0ef3dda96'\n",
      " '21cb526c2' '1e5e03a86' 'd9e131846' '5f57e7d4f' '8ad083b20' '4abed74f5'\n",
      " '8c8aa1d64' 'ac3e34eff' '19231be54' 'd804d7926' '803f6cece' 'd7fb439cc'\n",
      " 'ed8157b96' '1f2e3f148' '1c7f1ab58' '0249d8675' '144279ac1' '3afd0489b'\n",
      " 'ef1f6146b' 'fe77c71bd' 'bbc311f15' '9fbd66490' '4c6d8f959' '83f07ed50'\n",
      " '163b28322' 'fb1301ef6' '214f24d39' '2c4223dbd' 'f17881964' '3e6a88574'\n",
      " '145d17afb' '8584a02f4' '6c1a5aab7' '40994d768' '527a42dc2' 'bea839b58'\n",
      " 'e866d44ea' 'a148d86df' '310b1a988' '3e2b4aac9' '9a20c66da' '09f69436c'\n",
      " '78e45cd66' '3fe2d05f7' '5e881b059' '2119a6f87' 'd9025a066' '4c183f1ef'\n",
      " '292dea6ab' 'f53d92c1a' 'c0e4c4487' '7cb06ca3c' '99fffb9e9' '1f40b9ca8'\n",
      " 'b8cf041db' '9882f1fa0' 'cc8755307' '95a263224' 'eba84389c' '39981f199'\n",
      " '7322ea1c9' '907d87214' '75645dad3' '2ae2bd37c' 'd39b176b6' '329124d64'\n",
      " 'ae49fec17' 'ec93484e7' 'baf172f58' '989a51202' '435fd233e' 'b2c93e83d'\n",
      " '4d5fc69ae' 'b3f15d742' 'cfc8d0828' 'fc88d723d' 'a9b4474f4' 'e78ce8c35'\n",
      " '9d6fa150a' '0000ee65f' '00e9c15b8' 'f81cde28d' '76ef650e6' '437d8df71'\n",
      " 'b436c2568' '9a92bb693' 'fe0b55cd2' '70a040495' '0b17eaec7' 'ce528707a'\n",
      " '77ab97a87' '906c833b2' '782664588' 'e97824431' 'b7c276ed2' '7433a98da'\n",
      " '2d8a0cf5a' '576b27b37' 'b7d62cb4e' '0516fa0d8' '7cd1571c9' '17e0c4fa9'\n",
      " 'f4689e520' '556aa5d7a' '062cd9a70' '9c5ea36f8' '3fe8e9cba' '1ff467489'\n",
      " '82f75f00e' '27179d6e5' '8367b78fc' '28630a5c8' '26bf5ddd9' '4dcab4fc8']\n",
      "['68f6ad3e9' '3b6dd5612' 'a6a36f527' ... '7aaa810eb' '74a1b69b1'\n",
      " '3460d7c4b']\n",
      "['c389000ab' '4cd920251' 'de9c9f684' ... '5361d3b53' 'e4d784581'\n",
      " '44f729e5a']\n",
      "['2f4cb3d51' 'f83c56c21' 'ae6800dd0' ... 'c9751f01d' '3b51e3e0d'\n",
      " 'e05e4c676']\n",
      "[2 1 3]\n",
      "['Grandmaster' 'Expert' 'Novice' 'Contributor' 'Master']\n",
      "['Cold' 'Hot' 'Lava Hot' 'Boiling Hot' 'Freezing' 'Warm']\n",
      "['h' 'a' 'i' 'j' 'g' 'e' 'd' 'b' 'k' 'f' 'l' 'n' 'o' 'c' 'm']\n",
      "['D' 'A' 'R' 'E' 'P' 'K' 'V' 'Q' 'Z' 'L' 'F' 'T' 'U' 'S' 'Y' 'B' 'H' 'J'\n",
      " 'N' 'G' 'W' 'I' 'O' 'C' 'X' 'M']\n",
      "['kr' 'bF' 'Jc' 'kW' 'qP' 'PZ' 'wy' 'Ed' 'qo' 'CZ' 'qX' 'su' 'dP' 'aP'\n",
      " 'MV' 'oC' 'RL' 'fh' 'gJ' 'Hj' 'TR' 'CL' 'Sc' 'eQ' 'kC' 'qK' 'dh' 'gM'\n",
      " 'Jf' 'fO' 'Eg' 'KZ' 'Vx' 'Fo' 'sV' 'eb' 'YC' 'RG' 'Ye' 'qA' 'lL' 'Qh'\n",
      " 'Bd' 'be' 'hT' 'lF' 'nX' 'kK' 'av' 'uS' 'Jt' 'PA' 'Er' 'Qb' 'od' 'ut'\n",
      " 'Dx' 'Xi' 'on' 'Dc' 'sD' 'rZ' 'Uu' 'sn' 'yc' 'Gb' 'Kq' 'dQ' 'hp' 'kL'\n",
      " 'je' 'CU' 'Fd' 'PQ' 'Bn' 'ex' 'hh' 'ac' 'rp' 'dE' 'oG' 'oK' 'cp' 'mm'\n",
      " 'vK' 'ek' 'dO' 'XI' 'CM' 'Vf' 'aO' 'qv' 'jp' 'Zq' 'Qo' 'DN' 'TZ' 'ke'\n",
      " 'cG' 'tP' 'ud' 'tv' 'aM' 'xy' 'lx' 'To' 'uy' 'ZS' 'vy' 'ZR' 'AP' 'GJ'\n",
      " 'Wv' 'ri' 'qw' 'Xh' 'FI' 'nh' 'KR' 'dB' 'BE' 'Bb' 'mc' 'MC' 'tM' 'NV'\n",
      " 'ih' 'IK' 'Ob' 'RP' 'dN' 'us' 'dZ' 'yN' 'Nf' 'QM' 'jV' 'sY' 'wu' 'SB'\n",
      " 'UO' 'Mx' 'JX' 'Ry' 'Uk' 'uJ' 'LE' 'ps' 'kE' 'MO' 'kw' 'yY' 'zU' 'bJ'\n",
      " 'Kf' 'ck' 'mb' 'Os' 'Ps' 'Ml' 'Ai' 'Wc' 'GD' 'll' 'aF' 'iT' 'cA' 'WE'\n",
      " 'Gx' 'Nk' 'OR' 'Rm' 'BA' 'eG' 'cW' 'jS' 'DH' 'hL' 'Mf' 'Yb' 'Aj' 'oH'\n",
      " 'Zc' 'qJ' 'eg' 'xP' 'vq' 'Id' 'pa' 'ux' 'kU' 'Cl']\n",
      "[2 7 5 4 3 1 6]\n",
      "[ 2  8  1  4 10  3  7  9 12 11  5  6]\n",
      "[0 1]\n"
     ]
    }
   ],
   "source": [
    "for i in df.columns:\n",
    "    print(pd.unique(df[i]))"
   ]
  },
  {
   "cell_type": "code",
   "execution_count": 31,
   "id": "087ac3af",
   "metadata": {},
   "outputs": [
    {
     "data": {
      "text/plain": [
       "array(['Cold', 'Hot', 'Lava Hot', 'Boiling Hot', 'Freezing', 'Warm'],\n",
       "      dtype=object)"
      ]
     },
     "execution_count": 31,
     "metadata": {},
     "output_type": "execute_result"
    }
   ],
   "source": [
    "df.ord_2.unique()"
   ]
  },
  {
   "cell_type": "markdown",
   "id": "0b26d26d",
   "metadata": {},
   "source": [
    "Let’s look at ord_2 feature in the dataset. It consists of six different categories:\n",
    "• Freezing\n",
    "• Warm\n",
    "• Cold\n",
    "• Boiling Hot\n",
    "• Hot\n",
    "• Lava Hot\n",
    "\n",
    "We have to know that computers do not understand text data and thus, we need to\n",
    "convert these categories to numbers"
   ]
  },
  {
   "cell_type": "markdown",
   "id": "18f3176e",
   "metadata": {},
   "source": [
    "A simple way of doing this would be to create\n",
    "a dictionary that maps these values to numbers starting from 0 to N-1, where N is\n",
    "the total number of categories in a given feature.\n",
    "\n"
   ]
  },
  {
   "cell_type": "code",
   "execution_count": 36,
   "id": "5a0bc2f4",
   "metadata": {},
   "outputs": [],
   "source": [
    "mapping={\n",
    "    'Freezing':0,\n",
    "    'Warm':1,\n",
    "    'Cold':2,\n",
    "    'Boiling Hot':3,\n",
    "    'Hot':4,\n",
    "    'Lava Hot':5    \n",
    "}"
   ]
  },
  {
   "cell_type": "code",
   "execution_count": 37,
   "id": "76aa0193",
   "metadata": {},
   "outputs": [
    {
     "data": {
      "text/plain": [
       "{'Freezing': 0,\n",
       " 'Warm': 1,\n",
       " 'Cold': 2,\n",
       " 'Boiling Hot': 3,\n",
       " 'Hot': 4,\n",
       " 'Lava Hot': 5}"
      ]
     },
     "execution_count": 37,
     "metadata": {},
     "output_type": "execute_result"
    }
   ],
   "source": [
    "mapping"
   ]
  },
  {
   "cell_type": "markdown",
   "id": "7a8eea5c",
   "metadata": {},
   "source": [
    "#### Value counts before mapping:"
   ]
  },
  {
   "cell_type": "code",
   "execution_count": 47,
   "id": "6a9dba0a",
   "metadata": {
    "scrolled": true
   },
   "outputs": [
    {
     "data": {
      "text/plain": [
       "Freezing       99816\n",
       "Lava Hot       63908\n",
       "Boiling Hot    60627\n",
       "Cold           33768\n",
       "Hot            22227\n",
       "Warm           19654\n",
       "Name: ord_2, dtype: int64"
      ]
     },
     "execution_count": 47,
     "metadata": {},
     "output_type": "execute_result"
    }
   ],
   "source": [
    "df.ord_2.value_counts()"
   ]
  },
  {
   "cell_type": "code",
   "execution_count": 48,
   "id": "2552fcfc",
   "metadata": {},
   "outputs": [],
   "source": [
    "df.loc[:,'ord_2']=df['ord_2'].map(mapping)"
   ]
  },
  {
   "cell_type": "markdown",
   "id": "1de66c6a",
   "metadata": {},
   "source": [
    "#### Value counts after mapping:"
   ]
  },
  {
   "cell_type": "code",
   "execution_count": 44,
   "id": "e8d1dcba",
   "metadata": {
    "scrolled": false
   },
   "outputs": [
    {
     "data": {
      "text/plain": [
       "0    99816\n",
       "5    63908\n",
       "3    60627\n",
       "2    33768\n",
       "4    22227\n",
       "1    19654\n",
       "Name: ord_2, dtype: int64"
      ]
     },
     "execution_count": 44,
     "metadata": {},
     "output_type": "execute_result"
    }
   ],
   "source": [
    "df.ord_2.value_counts()"
   ]
  },
  {
   "cell_type": "markdown",
   "id": "e92ff833",
   "metadata": {},
   "source": [
    "#### We can do the same by using LabelEncoder from scikit-learn."
   ]
  },
  {
   "cell_type": "code",
   "execution_count": 50,
   "id": "6c490a67",
   "metadata": {},
   "outputs": [],
   "source": [
    "import pandas as pd\n",
    "from sklearn import preprocessing"
   ]
  },
  {
   "cell_type": "code",
   "execution_count": 59,
   "id": "f32552e0",
   "metadata": {},
   "outputs": [],
   "source": [
    "# read the data\n",
    "df=pd.read_csv('cat_dat.csv',index_col=\"id\")\n",
    "\n",
    "# fill NaN values in ord_2 column\n",
    "df.loc[:, \"ord_2\"] = df.ord_2.fillna(\"NONE\")\n",
    "\n",
    "# initialize LabelEncoder\n",
    "lbl_enc = preprocessing.LabelEncoder()\n",
    "# P.S: do not use this directly. fit first, then transform\n",
    "df.loc[:, \"ord_2\"] = lbl_enc.fit_transform(df.ord_2.values)\n",
    "\n",
    "#You will see that I use fillna from pandas.\n",
    "#The reason is LabelEncoder from scikitlearn does not handle NaN values, and ord_2 column has NaN values in it.\n",
    "\n",
    "We can use this directly in many tree-based models:\n",
    "• Decision trees\n",
    "• Random forest\n",
    "• Extra Trees\n",
    "• Or any kind of boosted trees model\n",
    "    o XGBoost\n",
    "    o GBM\n",
    "    o LightGBM\n",
    "    \n",
    "    \n",
    "This type of encoding cannot be used in linear models, support vector machines or\n",
    "neural networks as they expect data to be normalized (or standardized).\n",
    "\n",
    "For these types of models, we can binarize the data.\n",
    "\n",
    "Freezing    --> 0 --> 0 0 0\n",
    "Warm        --> 1 --> 0 0 1\n",
    "Cold        --> 2 --> 0 1 0\n",
    "Boiling Hot --> 3 --> 0 1 1\n",
    "Hot         --> 4 --> 1 0 0\n",
    "Lava Hot    --> 5 --> 1 0 1\n",
    "\n",
    "This is just converting the categories to numbers and then converting them to their\n",
    "binary representation. We are thus splitting one feature into three (in this case)\n",
    "features (or columns). If we have more categories, we might end up splitting into a\n",
    "lot more columns."
   ]
  },
  {
   "cell_type": "markdown",
   "id": "21b7cf3d",
   "metadata": {},
   "source": [
    "It becomes easy to store lots of binarized variables like this if we store them in a\n",
    "sparse format. A sparse format is nothing but a representation or way of storing\n",
    "data in memory in which you do not store all the values but only the values that\n",
    "matter. In the case of binary variables described above, all that matters is where we\n",
    "have ones (1s). "
   ]
  },
  {
   "cell_type": "code",
   "execution_count": 24,
   "id": "9b88de3c",
   "metadata": {},
   "outputs": [
    {
     "name": "stdout",
     "output_type": "stream",
     "text": [
      "Requirement already satisfied: pillow in c:\\users\\manjunath\\anaconda3\\lib\\site-packages (9.2.0)\n"
     ]
    }
   ],
   "source": [
    "!pip install pillow\n",
    "from PIL import Image, ImageDraw"
   ]
  },
  {
   "cell_type": "code",
   "execution_count": 25,
   "id": "cd595dc5",
   "metadata": {},
   "outputs": [
    {
     "data": {
      "image/png": "[encoded data removed]",
      "text/plain": [
       "<PIL.PngImagePlugin.PngImageFile image mode=RGBA size=501x538>"
      ]
     },
     "execution_count": 25,
     "metadata": {},
     "output_type": "execute_result"
    }
   ],
   "source": [
    "try: \n",
    "    img  = Image.open(\"example_labale_enocding.png\") \n",
    "except IOError:\n",
    "    pass\n",
    "\n",
    "img"
   ]
  },
  {
   "cell_type": "markdown",
   "id": "6c2ae6ae",
   "metadata": {},
   "source": [
    "Let’s assume that we are provided with only one feature in the dataframe above:\n",
    "ord_2.\n",
    "\n",
    "Currently, we are looking at only three samples in the dataset. Let’s convert this to\n",
    "binary representation where we have three items for each sample.\n",
    "These three items are the three features.\n",
    "\n",
    "\n",
    "So, our features are stored in a matrix which has 3 rows and 3 columns - 3x3. Each\n",
    "element of this matrix occupies 8 bytes. So, our total memory requirement for this\n",
    "array is 8x3x3 = 72 bytes."
   ]
  },
  {
   "cell_type": "code",
   "execution_count": 28,
   "id": "bfb1ecdf",
   "metadata": {
    "scrolled": true
   },
   "outputs": [
    {
     "data": {
      "image/png": "[encoded data removed]",
      "text/plain": [
       "<PIL.PngImagePlugin.PngImageFile image mode=RGBA size=1082x307>"
      ]
     },
     "execution_count": 28,
     "metadata": {},
     "output_type": "execute_result"
    }
   ],
   "source": [
    "try: \n",
    "    img  = Image.open(\"binary.png\") \n",
    "except IOError:\n",
    "    pass\n",
    "img\n",
    "\n",
    "So, our features are stored in a matrix which has 3 rows and 3 columns - 3x3. Each element of this matrix occupies 8 bytes. \n",
    "So, our total memory requirement for this array is 8x3x3 = 72 bytes"
   ]
  },
  {
   "cell_type": "markdown",
   "id": "0b99c066",
   "metadata": {},
   "source": [
    "##### We can also check this using a simple python snippet."
   ]
  },
  {
   "cell_type": "code",
   "execution_count": 35,
   "id": "2068a88b",
   "metadata": {},
   "outputs": [
    {
     "name": "stdout",
     "output_type": "stream",
     "text": [
      "36\n"
     ]
    }
   ],
   "source": [
    "example = np.array(\n",
    " [\n",
    " [0, 0, 1],\n",
    " [1, 0, 0],\n",
    " [1, 0, 1]\n",
    " ]\n",
    ")\n",
    "# print size in bytes\n",
    "print(example.nbytes)"
   ]
  },
  {
   "cell_type": "markdown",
   "id": "4a4011a7",
   "metadata": {},
   "source": [
    "do we need to store all the\n",
    "elements of this matrix? No. As mentioned before we are only interested in 1s. 0s\n",
    "are not that important because anything multiplied with 0 will be zero and 0\n",
    "added/subtracted to/from anything doesn’t make any difference. One way to\n",
    "represent this matrix only with ones would be some kind of dictionary method in\n",
    "which keys are indices of rows and columns and value is 1"
   ]
  },
  {
   "cell_type": "code",
   "execution_count": 37,
   "id": "230cd45a",
   "metadata": {},
   "outputs": [
    {
     "name": "stdout",
     "output_type": "stream",
     "text": [
      "16\n"
     ]
    }
   ],
   "source": [
    "import numpy as np\n",
    "from scipy import sparse\n",
    "# create our example feature matrix\n",
    "example = np.array(\n",
    " [\n",
    " [0, 0, 1],\n",
    " [1, 0, 0],\n",
    " [1, 0, 1]\n",
    " ]\n",
    ")\n",
    "# convert numpy array to sparse CSR matrix\n",
    "sparse_example = sparse.csr_matrix(example)\n",
    "# print size of this sparse matrix\n",
    "print(sparse_example.data.nbytes)\n",
    " "
   ]
  },
  {
   "cell_type": "markdown",
   "id": "6496670f",
   "metadata": {},
   "source": [
    "This will print 16, which is so less than our dense array! The total size of the sparse\n",
    "csr matrix is the sum of three values.\n"
   ]
  },
  {
   "cell_type": "code",
   "execution_count": 38,
   "id": "50ba6ebb",
   "metadata": {},
   "outputs": [
    {
     "name": "stdout",
     "output_type": "stream",
     "text": [
      "48\n"
     ]
    }
   ],
   "source": [
    "print(\n",
    " sparse_example.data.nbytes +\n",
    " sparse_example.indptr.nbytes +\n",
    " sparse_example.indices.nbytes\n",
    ")"
   ]
  },
  {
   "cell_type": "markdown",
   "id": "b57571f1",
   "metadata": {},
   "source": [
    "This will print 48, which is still less than our dense array. Unfortunately, I will not\n",
    "go into the details of these elements. You can read more about them in scipy docs.\n",
    "The difference in size becomes vast when we have much larger arrays, let’s say\n",
    "with thousands of samples and tens of thousands of features. For example, a text\n",
    "dataset where we are using count-based features.\n",
    " "
   ]
  },
  {
   "cell_type": "code",
   "execution_count": 47,
   "id": "90e0fc60",
   "metadata": {},
   "outputs": [
    {
     "name": "stdout",
     "output_type": "stream",
     "text": [
      "Size of dense array: 4000000000\n",
      "Size of sparse array: 200031108\n",
      "Full size of sparse array: 400102220\n"
     ]
    }
   ],
   "source": [
    "# number of rows\n",
    "n_rows = 10000\n",
    "# number of columns\n",
    "n_cols = 100000\n",
    "# create random binary matrix with only 5% values as 1s\n",
    "example = np.random.binomial(1, p=0.05, size=(n_rows, n_cols))\n",
    "# print size in bytes\n",
    "print(f\"Size of dense array: {example.nbytes}\")\n",
    "# convert numpy array to sparse CSR matrix\n",
    "sparse_example = sparse.csr_matrix(example)\n",
    "# print size of this sparse matrix\n",
    "print(f\"Size of sparse array: {sparse_example.data.nbytes}\")\n",
    "full_size = (\n",
    " sparse_example.data.nbytes +\n",
    " sparse_example.indptr.nbytes +\n",
    " sparse_example.indices.nbytes\n",
    ")\n",
    "# print full size of this sparse matrix\n",
    "print(f\"Full size of sparse array: {full_size}\")\n"
   ]
  },
  {
   "cell_type": "markdown",
   "id": "d3668536",
   "metadata": {},
   "source": [
    "that’s why we prefer sparse arrays over dense whenever we have a lot of zeros\n",
    "in our features. "
   ]
  },
  {
   "cell_type": "markdown",
   "id": "530f0123",
   "metadata": {},
   "source": [
    "Even though the sparse representation of binarized features takes much less\n",
    "memory than its dense representation, there is another transformation for\n",
    "categorical variables that takes even less memory.This is known as One Hot\n",
    "Encoding."
   ]
  },
  {
   "cell_type": "markdown",
   "id": "05bfa7e5",
   "metadata": {},
   "source": [
    "## One Hot Encoding."
   ]
  },
  {
   "cell_type": "markdown",
   "id": "9fe2cf72",
   "metadata": {},
   "source": [
    "One hot encoding is a binary encoding too in the sense that there are only two\n",
    "values, 0s and 1s. \n",
    "\n",
    "However, it must be noted that it’s not a binary representation.\n",
    "Its representation can be understood by looking at the following example."
   ]
  },
  {
   "cell_type": "markdown",
   "id": "18c623eb",
   "metadata": {},
   "source": [
    "Suppose we represent each category of the ord_2 variable by a vector. This vector\n",
    "is of the same size as the number of categories in the ord_2 variable. In this specific\n",
    "case, each vector is of size six and has all zeros except at one position. Let’s look\n",
    "at this particular table of vectors."
   ]
  },
  {
   "cell_type": "code",
   "execution_count": 49,
   "id": "af65e172",
   "metadata": {},
   "outputs": [
    {
     "data": {
      "image/png": "[encoded data removed]",
      "text/plain": [
       "<PIL.PngImagePlugin.PngImageFile image mode=RGBA size=826x423>"
      ]
     },
     "execution_count": 49,
     "metadata": {},
     "output_type": "execute_result"
    }
   ],
   "source": [
    "try: \n",
    "    img  = Image.open(\"one_hot_encoding.png\") \n",
    "except IOError:\n",
    "    pass\n",
    "img"
   ]
  },
  {
   "cell_type": "markdown",
   "id": "1b403a66",
   "metadata": {},
   "source": [
    "We see that the size of vectors is 1x6, i.e. there are six elements in the vector. Where\n",
    "does this number come from? If you look carefully, you will see that there are six\n",
    "categories, as mentioned before. When one-hot encoding, the vector size has to be\n",
    "same as the number of categories we are looking at. Each vector has a 1 and rest all\n",
    "other values are 0s. Now, let’s use these features instead of the binarized feature as\n",
    "before and see how much memory can we save."
   ]
  },
  {
   "cell_type": "code",
   "execution_count": 50,
   "id": "4c5b6ada",
   "metadata": {},
   "outputs": [
    {
     "name": "stdout",
     "output_type": "stream",
     "text": [
      "Size of dense array: 72\n"
     ]
    }
   ],
   "source": [
    "import numpy as np\n",
    "from scipy import sparse\n",
    "# create binary matrix\n",
    "example = np.array(\n",
    " [\n",
    " [0, 0, 0, 0, 1, 0],\n",
    " [0, 1, 0, 0, 0, 0],\n",
    " [1, 0, 0, 0, 0, 0]\n",
    " ]\n",
    ")\n",
    "# print size in bytes\n",
    "print(f\"Size of dense array: {example.nbytes}\")"
   ]
  },
  {
   "cell_type": "code",
   "execution_count": 52,
   "id": "0cad7642",
   "metadata": {},
   "outputs": [
    {
     "name": "stdout",
     "output_type": "stream",
     "text": [
      "Size of sparse array: 12\n",
      "Full size of sparse array: 40\n"
     ]
    }
   ],
   "source": [
    "# convert numpy array to sparse CSR matrix\n",
    "sparse_example = sparse.csr_matrix(example)\n",
    "# print size of this sparse matrix\n",
    "print(f\"Size of sparse array: {sparse_example.data.nbytes}\")\n",
    "full_size = (\n",
    " sparse_example.data.nbytes +\n",
    " sparse_example.indptr.nbytes +\n",
    " sparse_example.indices.nbytes\n",
    ")\n",
    "# print full size of this sparse matrix\n",
    "print(f\"Full size of sparse array: {full_size}\")"
   ]
  },
  {
   "cell_type": "markdown",
   "id": "c8c1ab11",
   "metadata": {},
   "source": [
    "We see that the dense array size is much larger than the one with binarization.\n",
    "However, the size of the sparse array is much less. Let’s try this with a much larger\n",
    "array. In this example, we will use OneHotEncoder from scikit-learn to transform\n",
    "our feature array with 1001 categories into dense and sparse matrices."
   ]
  },
  {
   "cell_type": "code",
   "execution_count": 57,
   "id": "e3b580ff",
   "metadata": {},
   "outputs": [
    {
     "name": "stdout",
     "output_type": "stream",
     "text": [
      "Size of dense array: 8000000000\n",
      "Size of sparse array: 8000000\n",
      "Full size of sparse array: 16000004\n"
     ]
    }
   ],
   "source": [
    "import numpy as np\n",
    "from sklearn import preprocessing\n",
    "# create random 1-d array with 1001 different categories (int)\n",
    "example = np.random.randint(1000, size=1000000)\n",
    "# initialize OneHotEncoder from scikit-learn\n",
    "# keep sparse = False to get dense array\n",
    "ohe = preprocessing.OneHotEncoder(sparse=False)\n",
    "# fit and transform data with dense one hot encoder\n",
    "ohe_example = ohe.fit_transform(example.reshape(-1, 1))\n",
    "# print size in bytes for dense array\n",
    "print(f\"Size of dense array: {ohe_example.nbytes}\")\n",
    "# initialize OneHotEncoder from scikit-learn\n",
    "# keep sparse = True to get sparse array\n",
    "ohe = preprocessing.OneHotEncoder(sparse=True)\n",
    "# fit and transform data with sparse one-hot encoder\n",
    "ohe_example = ohe.fit_transform(example.reshape(-1, 1))\n",
    "# print size of this sparse matrix\n",
    "print(f\"Size of sparse array: {ohe_example.data.nbytes}\")\n",
    "full_size = (\n",
    " ohe_example.data.nbytes +\n",
    " ohe_example.indptr.nbytes + ohe_example.indices.nbytes\n",
    ")\n",
    "# print full size of this sparse matrix\n",
    "print(f\"Full size of sparse array: {full_size}\")"
   ]
  },
  {
   "cell_type": "markdown",
   "id": "b6713e13",
   "metadata": {},
   "source": [
    "Dense array size here is approximately 8GB and sparse array is 8MB. If you had a\n",
    "choice, which one would you choose? Seems like a quite simple choice to me, isn’t it?\n",
    "These three methods are the most important ways to handle categorical variables.\n",
    "\n",
    "There are, however, many other different methods you can use to handle categorical\n",
    "variables. An example of one such method is about converting categorical variables\n",
    "to numerical variables."
   ]
  },
  {
   "cell_type": "code",
   "execution_count": 76,
   "id": "e7b14269",
   "metadata": {},
   "outputs": [
    {
     "data": {
      "text/plain": [
       "Index(['id', 'bin_0', 'bin_1', 'bin_2', 'bin_3', 'bin_4', 'nom_0', 'nom_1',\n",
       "       'nom_2', 'nom_3', 'nom_4', 'nom_5', 'nom_6', 'nom_7', 'nom_8', 'nom_9',\n",
       "       'ord_0', 'ord_1', 'ord_2', 'ord_3', 'ord_4', 'ord_5', 'day', 'month',\n",
       "       'target'],\n",
       "      dtype='object')"
      ]
     },
     "execution_count": 76,
     "metadata": {},
     "output_type": "execute_result"
    }
   ],
   "source": [
    "df.columns"
   ]
  },
  {
   "cell_type": "markdown",
   "id": "48d8802d",
   "metadata": {},
   "source": [
    "##### Suppose we go back to the categorical features dataframe (original cat-in-the-datii) that we had. How many ids do we have in the dataframe where the value of ord_2 is Boiling Hot ? "
   ]
  },
  {
   "cell_type": "code",
   "execution_count": 67,
   "id": "209070ed",
   "metadata": {
    "scrolled": true
   },
   "outputs": [
    {
     "data": {
      "text/plain": [
       "(60627, 24)"
      ]
     },
     "execution_count": 67,
     "metadata": {},
     "output_type": "execute_result"
    }
   ],
   "source": [
    "df[df['ord_2']=='Boiling Hot'].shape"
   ]
  },
  {
   "cell_type": "code",
   "execution_count": 78,
   "id": "f6890908",
   "metadata": {},
   "outputs": [
    {
     "data": {
      "text/plain": [
       "ord_2\n",
       "Boiling Hot    60627\n",
       "Cold           33768\n",
       "Freezing       99816\n",
       "Hot            22227\n",
       "Lava Hot       63908\n",
       "Warm           19654\n",
       "Name: id, dtype: int64"
      ]
     },
     "execution_count": 78,
     "metadata": {},
     "output_type": "execute_result"
    }
   ],
   "source": [
    " df.groupby([\"ord_2\"])[\"id\"].count()"
   ]
  },
  {
   "cell_type": "markdown",
   "id": "ee26978d",
   "metadata": {},
   "source": [
    "We see that there are 60627 rows with this value. We can also calculate this value\n",
    "for all the categories using groupby in pandas."
   ]
  },
  {
   "cell_type": "code",
   "execution_count": 82,
   "id": "794a4398",
   "metadata": {},
   "outputs": [
    {
     "data": {
      "text/plain": [
       "0         33768\n",
       "1         22227\n",
       "2         63908\n",
       "3         60627\n",
       "4         99816\n",
       "          ...  \n",
       "299995    99816\n",
       "299996    99816\n",
       "299997    60627\n",
       "299998    60627\n",
       "299999    99816\n",
       "Name: id, Length: 300000, dtype: int64"
      ]
     },
     "execution_count": 82,
     "metadata": {},
     "output_type": "execute_result"
    }
   ],
   "source": [
    "df.groupby([\"ord_2\"])[\"id\"].transform(\"count\")"
   ]
  },
  {
   "cell_type": "markdown",
   "id": "a6d02f18",
   "metadata": {},
   "source": [
    "If we just replace ord_2 column with its count values, we have converted it to a\n",
    "feature which is kind of numerical now. We can create a new column or replace this\n",
    "column by using the transform function of pandas along with groupby."
   ]
  },
  {
   "cell_type": "code",
   "execution_count": 86,
   "id": "6fb5792c",
   "metadata": {},
   "outputs": [
    {
     "data": {
      "text/plain": [
       "ord_1        ord_2      \n",
       "Contributor  Boiling Hot     8692\n",
       "             Cold            4842\n",
       "             Freezing       14284\n",
       "             Hot             3122\n",
       "             Lava Hot        9074\n",
       "             Warm            2857\n",
       "Expert       Boiling Hot     4980\n",
       "             Cold            2850\n",
       "             Freezing        8432\n",
       "             Hot             1887\n",
       "             Lava Hot        5274\n",
       "             Warm            1642\n",
       "Grandmaster  Boiling Hot    15719\n",
       "             Cold            8702\n",
       "             Freezing       25620\n",
       "             Hot             5697\n",
       "             Lava Hot       16617\n",
       "             Warm            5073\n",
       "Master       Boiling Hot     5720\n",
       "             Cold            3129\n",
       "             Freezing        9401\n",
       "             Hot             2069\n",
       "             Lava Hot        5882\n",
       "             Warm            1852\n",
       "Novice       Boiling Hot    25516\n",
       "             Cold           14245\n",
       "             Freezing       42079\n",
       "             Hot             9452\n",
       "             Lava Hot       27061\n",
       "             Warm            8230\n",
       "Name: id, dtype: int64"
      ]
     },
     "execution_count": 86,
     "metadata": {},
     "output_type": "execute_result"
    }
   ],
   "source": [
    "df.groupby(['ord_1','ord_2'])['id'].count()"
   ]
  },
  {
   "cell_type": "code",
   "execution_count": 89,
   "id": "8c47aec7",
   "metadata": {},
   "outputs": [
    {
     "data": {
      "text/html": [
       "<div>\n",
       "<style scoped>\n",
       "    .dataframe tbody tr th:only-of-type {\n",
       "        vertical-align: middle;\n",
       "    }\n",
       "\n",
       "    .dataframe tbody tr th {\n",
       "        vertical-align: top;\n",
       "    }\n",
       "\n",
       "    .dataframe thead th {\n",
       "        text-align: right;\n",
       "    }\n",
       "</style>\n",
       "<table border=\"1\" class=\"dataframe\">\n",
       "  <thead>\n",
       "    <tr style=\"text-align: right;\">\n",
       "      <th></th>\n",
       "      <th>ord_1</th>\n",
       "      <th>ord_2</th>\n",
       "      <th>count</th>\n",
       "    </tr>\n",
       "  </thead>\n",
       "  <tbody>\n",
       "    <tr>\n",
       "      <th>0</th>\n",
       "      <td>Contributor</td>\n",
       "      <td>Boiling Hot</td>\n",
       "      <td>8692</td>\n",
       "    </tr>\n",
       "    <tr>\n",
       "      <th>1</th>\n",
       "      <td>Contributor</td>\n",
       "      <td>Cold</td>\n",
       "      <td>4842</td>\n",
       "    </tr>\n",
       "    <tr>\n",
       "      <th>2</th>\n",
       "      <td>Contributor</td>\n",
       "      <td>Freezing</td>\n",
       "      <td>14284</td>\n",
       "    </tr>\n",
       "    <tr>\n",
       "      <th>3</th>\n",
       "      <td>Contributor</td>\n",
       "      <td>Hot</td>\n",
       "      <td>3122</td>\n",
       "    </tr>\n",
       "    <tr>\n",
       "      <th>4</th>\n",
       "      <td>Contributor</td>\n",
       "      <td>Lava Hot</td>\n",
       "      <td>9074</td>\n",
       "    </tr>\n",
       "    <tr>\n",
       "      <th>5</th>\n",
       "      <td>Contributor</td>\n",
       "      <td>Warm</td>\n",
       "      <td>2857</td>\n",
       "    </tr>\n",
       "    <tr>\n",
       "      <th>6</th>\n",
       "      <td>Expert</td>\n",
       "      <td>Boiling Hot</td>\n",
       "      <td>4980</td>\n",
       "    </tr>\n",
       "    <tr>\n",
       "      <th>7</th>\n",
       "      <td>Expert</td>\n",
       "      <td>Cold</td>\n",
       "      <td>2850</td>\n",
       "    </tr>\n",
       "    <tr>\n",
       "      <th>8</th>\n",
       "      <td>Expert</td>\n",
       "      <td>Freezing</td>\n",
       "      <td>8432</td>\n",
       "    </tr>\n",
       "    <tr>\n",
       "      <th>9</th>\n",
       "      <td>Expert</td>\n",
       "      <td>Hot</td>\n",
       "      <td>1887</td>\n",
       "    </tr>\n",
       "    <tr>\n",
       "      <th>10</th>\n",
       "      <td>Expert</td>\n",
       "      <td>Lava Hot</td>\n",
       "      <td>5274</td>\n",
       "    </tr>\n",
       "    <tr>\n",
       "      <th>11</th>\n",
       "      <td>Expert</td>\n",
       "      <td>Warm</td>\n",
       "      <td>1642</td>\n",
       "    </tr>\n",
       "    <tr>\n",
       "      <th>12</th>\n",
       "      <td>Grandmaster</td>\n",
       "      <td>Boiling Hot</td>\n",
       "      <td>15719</td>\n",
       "    </tr>\n",
       "    <tr>\n",
       "      <th>13</th>\n",
       "      <td>Grandmaster</td>\n",
       "      <td>Cold</td>\n",
       "      <td>8702</td>\n",
       "    </tr>\n",
       "    <tr>\n",
       "      <th>14</th>\n",
       "      <td>Grandmaster</td>\n",
       "      <td>Freezing</td>\n",
       "      <td>25620</td>\n",
       "    </tr>\n",
       "    <tr>\n",
       "      <th>15</th>\n",
       "      <td>Grandmaster</td>\n",
       "      <td>Hot</td>\n",
       "      <td>5697</td>\n",
       "    </tr>\n",
       "    <tr>\n",
       "      <th>16</th>\n",
       "      <td>Grandmaster</td>\n",
       "      <td>Lava Hot</td>\n",
       "      <td>16617</td>\n",
       "    </tr>\n",
       "    <tr>\n",
       "      <th>17</th>\n",
       "      <td>Grandmaster</td>\n",
       "      <td>Warm</td>\n",
       "      <td>5073</td>\n",
       "    </tr>\n",
       "    <tr>\n",
       "      <th>18</th>\n",
       "      <td>Master</td>\n",
       "      <td>Boiling Hot</td>\n",
       "      <td>5720</td>\n",
       "    </tr>\n",
       "    <tr>\n",
       "      <th>19</th>\n",
       "      <td>Master</td>\n",
       "      <td>Cold</td>\n",
       "      <td>3129</td>\n",
       "    </tr>\n",
       "    <tr>\n",
       "      <th>20</th>\n",
       "      <td>Master</td>\n",
       "      <td>Freezing</td>\n",
       "      <td>9401</td>\n",
       "    </tr>\n",
       "    <tr>\n",
       "      <th>21</th>\n",
       "      <td>Master</td>\n",
       "      <td>Hot</td>\n",
       "      <td>2069</td>\n",
       "    </tr>\n",
       "    <tr>\n",
       "      <th>22</th>\n",
       "      <td>Master</td>\n",
       "      <td>Lava Hot</td>\n",
       "      <td>5882</td>\n",
       "    </tr>\n",
       "    <tr>\n",
       "      <th>23</th>\n",
       "      <td>Master</td>\n",
       "      <td>Warm</td>\n",
       "      <td>1852</td>\n",
       "    </tr>\n",
       "    <tr>\n",
       "      <th>24</th>\n",
       "      <td>Novice</td>\n",
       "      <td>Boiling Hot</td>\n",
       "      <td>25516</td>\n",
       "    </tr>\n",
       "    <tr>\n",
       "      <th>25</th>\n",
       "      <td>Novice</td>\n",
       "      <td>Cold</td>\n",
       "      <td>14245</td>\n",
       "    </tr>\n",
       "    <tr>\n",
       "      <th>26</th>\n",
       "      <td>Novice</td>\n",
       "      <td>Freezing</td>\n",
       "      <td>42079</td>\n",
       "    </tr>\n",
       "    <tr>\n",
       "      <th>27</th>\n",
       "      <td>Novice</td>\n",
       "      <td>Hot</td>\n",
       "      <td>9452</td>\n",
       "    </tr>\n",
       "    <tr>\n",
       "      <th>28</th>\n",
       "      <td>Novice</td>\n",
       "      <td>Lava Hot</td>\n",
       "      <td>27061</td>\n",
       "    </tr>\n",
       "    <tr>\n",
       "      <th>29</th>\n",
       "      <td>Novice</td>\n",
       "      <td>Warm</td>\n",
       "      <td>8230</td>\n",
       "    </tr>\n",
       "  </tbody>\n",
       "</table>\n",
       "</div>"
      ],
      "text/plain": [
       "          ord_1        ord_2  count\n",
       "0   Contributor  Boiling Hot   8692\n",
       "1   Contributor         Cold   4842\n",
       "2   Contributor     Freezing  14284\n",
       "3   Contributor          Hot   3122\n",
       "4   Contributor     Lava Hot   9074\n",
       "5   Contributor         Warm   2857\n",
       "6        Expert  Boiling Hot   4980\n",
       "7        Expert         Cold   2850\n",
       "8        Expert     Freezing   8432\n",
       "9        Expert          Hot   1887\n",
       "10       Expert     Lava Hot   5274\n",
       "11       Expert         Warm   1642\n",
       "12  Grandmaster  Boiling Hot  15719\n",
       "13  Grandmaster         Cold   8702\n",
       "14  Grandmaster     Freezing  25620\n",
       "15  Grandmaster          Hot   5697\n",
       "16  Grandmaster     Lava Hot  16617\n",
       "17  Grandmaster         Warm   5073\n",
       "18       Master  Boiling Hot   5720\n",
       "19       Master         Cold   3129\n",
       "20       Master     Freezing   9401\n",
       "21       Master          Hot   2069\n",
       "22       Master     Lava Hot   5882\n",
       "23       Master         Warm   1852\n",
       "24       Novice  Boiling Hot  25516\n",
       "25       Novice         Cold  14245\n",
       "26       Novice     Freezing  42079\n",
       "27       Novice          Hot   9452\n",
       "28       Novice     Lava Hot  27061\n",
       "29       Novice         Warm   8230"
      ]
     },
     "execution_count": 89,
     "metadata": {},
     "output_type": "execute_result"
    }
   ],
   "source": [
    "df.groupby(['ord_1','ord_2'])['id'].count().reset_index(name=\"count\")"
   ]
  },
  {
   "cell_type": "markdown",
   "id": "a69d08b1",
   "metadata": {},
   "source": [
    "You can add counts of all the features or can also replace them or maybe group by\n",
    "multiple columns and their counts. For example, the following code counts by\n",
    "grouping on ord_1 and ord_2 columns."
   ]
  },
  {
   "cell_type": "markdown",
   "id": "3f36be3d",
   "metadata": {},
   "source": [
    "##### One more trick is to create new features from these categorical variables. You can create new categorical features from existing features, and this can be done in an effortless manner."
   ]
  },
  {
   "cell_type": "code",
   "execution_count": 95,
   "id": "7121277f",
   "metadata": {},
   "outputs": [
    {
     "name": "stdout",
     "output_type": "stream",
     "text": [
      "<class 'pandas.core.frame.DataFrame'>\n",
      "RangeIndex: 300000 entries, 0 to 299999\n",
      "Data columns (total 25 columns):\n",
      " #   Column  Non-Null Count   Dtype \n",
      "---  ------  --------------   ----- \n",
      " 0   id      300000 non-null  int64 \n",
      " 1   bin_0   300000 non-null  int64 \n",
      " 2   bin_1   300000 non-null  int64 \n",
      " 3   bin_2   300000 non-null  int64 \n",
      " 4   bin_3   300000 non-null  object\n",
      " 5   bin_4   300000 non-null  object\n",
      " 6   nom_0   300000 non-null  object\n",
      " 7   nom_1   300000 non-null  object\n",
      " 8   nom_2   300000 non-null  object\n",
      " 9   nom_3   300000 non-null  object\n",
      " 10  nom_4   300000 non-null  object\n",
      " 11  nom_5   300000 non-null  object\n",
      " 12  nom_6   300000 non-null  object\n",
      " 13  nom_7   300000 non-null  object\n",
      " 14  nom_8   300000 non-null  object\n",
      " 15  nom_9   300000 non-null  object\n",
      " 16  ord_0   300000 non-null  int64 \n",
      " 17  ord_1   300000 non-null  object\n",
      " 18  ord_2   300000 non-null  object\n",
      " 19  ord_3   300000 non-null  object\n",
      " 20  ord_4   300000 non-null  object\n",
      " 21  ord_5   300000 non-null  object\n",
      " 22  day     300000 non-null  int64 \n",
      " 23  month   300000 non-null  int64 \n",
      " 24  target  300000 non-null  int64 \n",
      "dtypes: int64(8), object(17)\n",
      "memory usage: 57.2+ MB\n"
     ]
    }
   ],
   "source": [
    "df.info()"
   ]
  },
  {
   "cell_type": "code",
   "execution_count": 104,
   "id": "48bba64b",
   "metadata": {},
   "outputs": [],
   "source": [
    "df[\"new_feature\"]=df.ord_1.astype(str)+\"_\"+df.ord_2.astype(str)+\"_\"+df.ord_3.astype(str)\n"
   ]
  },
  {
   "cell_type": "code",
   "execution_count": 105,
   "id": "a3160645",
   "metadata": {},
   "outputs": [
    {
     "data": {
      "text/plain": [
       "0                Grandmaster_Cold_h\n",
       "1                 Grandmaster_Hot_a\n",
       "2                 Expert_Lava Hot_h\n",
       "3         Grandmaster_Boiling Hot_i\n",
       "4            Grandmaster_Freezing_a\n",
       "                    ...            \n",
       "299995       Contributor_Freezing_k\n",
       "299996            Novice_Freezing_h\n",
       "299997         Novice_Boiling Hot_o\n",
       "299998         Master_Boiling Hot_h\n",
       "299999       Contributor_Freezing_i\n",
       "Name: new_feature, Length: 300000, dtype: object"
      ]
     },
     "execution_count": 105,
     "metadata": {},
     "output_type": "execute_result"
    }
   ],
   "source": [
    "df.new_feature"
   ]
  },
  {
   "cell_type": "markdown",
   "id": "dd25a529",
   "metadata": {},
   "source": [
    "Here, we have combined ord_1 and ord_2 by an underscore, and before that, we\n",
    "convert these columns to string types. Note that NaN will also convert to string. But\n",
    "it’s okay. We can also treat NaN as a new category. Thus, we have a new feature\n",
    "which is a combination of these two features. You can also combine more than three\n",
    "columns or four or even more.\n",
    "\n",
    "\n",
    "So which categories should we combine? Well, there isn't an easy answer to that. It\n",
    "depends on your data and the types of features. Some domain knowledge might be\n",
    "useful for creating features like this. But if you don’t have concerns about memory\n",
    "and CPU usage, you can go for a greedy approach where you can create many such\n",
    "combinations and then use a model to decide which features are useful and keep\n",
    "them. We will read about it later in this book."
   ]
  },
  {
   "cell_type": "markdown",
   "id": "18422009",
   "metadata": {},
   "source": [
    "## Whenever you get categorical variables, follow these simple steps:"
   ]
  },
  {
   "cell_type": "markdown",
   "id": "b53f0ef4",
   "metadata": {},
   "source": [
    "• fill the NaN values (this is very important!)\n",
    "\n",
    "• convert them to integers by applying label encoding using LabelEncoder\n",
    " of scikit-learn or by using a mapping dictionary. If you didn’t fill up NaN\n",
    " values with something, you might have to take care of them in this step\n",
    "\n",
    "• create one-hot encoding. Yes, you can skip binarization!\n",
    "\n",
    "• go for modelling! I mean the machine learning one. Not on the ramp."
   ]
  },
  {
   "cell_type": "markdown",
   "id": "125785cc",
   "metadata": {},
   "source": [
    "\n",
    "\n",
    "Handling NaN data in categorical features is quite essential else you can get the\n",
    "infamous error from scikit-learn’s LabelEncoder:\n",
    "\n",
    "ValueError: y contains previously unseen labels: [nan, nan, nan, nan,\n",
    "nan, nan, nan, nan]"
   ]
  },
  {
   "cell_type": "markdown",
   "id": "ecd2b44f",
   "metadata": {},
   "source": [
    "This simply means that when you are transforming the test data, you have NaN\n",
    "values in it. It’s because you forgot to handle them during training.\n",
    "\n",
    "One simple way\n",
    "to handle NaN values would be to drop them. Well, it’s simple but not ideal. NaN\n",
    "values may have a lot of information in them, and you will lose it if you just drop\n",
    "these values\n",
    "\n",
    "There might also be many situations where most of your data has NaN\n",
    "values, and thus, you cannot drop rows/samples with NaN values.\n",
    "\n",
    "Another way of\n",
    "handling NaN values is to treat them as a completely new category. This is the most\n",
    "preferred way of handling NaN values. And can be achieved in a very simple\n",
    "manner if you are using pandas."
   ]
  },
  {
   "cell_type": "code",
   "execution_count": 153,
   "id": "8aa201bc",
   "metadata": {},
   "outputs": [
    {
     "data": {
      "text/plain": [
       "0         D\n",
       "1         A\n",
       "2         R\n",
       "3         D\n",
       "4         R\n",
       "         ..\n",
       "299995    K\n",
       "299996    W\n",
       "299997    A\n",
       "299998    W\n",
       "299999    R\n",
       "Name: ord_4, Length: 300000, dtype: object"
      ]
     },
     "execution_count": 153,
     "metadata": {},
     "output_type": "execute_result"
    }
   ],
   "source": [
    "df.ord_4.fillna(\"NONE\")"
   ]
  },
  {
   "cell_type": "code",
   "execution_count": 174,
   "id": "1ec44eef",
   "metadata": {},
   "outputs": [],
   "source": [
    "df.loc[df[\"ord_4\"].value_counts()[df[\"ord_4\"]].values<2000,\"ord_4\"]=\"RARE\""
   ]
  },
  {
   "cell_type": "code",
   "execution_count": 175,
   "id": "db2e5901",
   "metadata": {},
   "outputs": [
    {
     "data": {
      "text/plain": [
       "L       19066\n",
       "G       18899\n",
       "S       18875\n",
       "A       18258\n",
       "R       16927\n",
       "Q       15925\n",
       "K       14698\n",
       "I       14644\n",
       "Z       14232\n",
       "T       14220\n",
       "V       14143\n",
       "J       12878\n",
       "P       12839\n",
       "U       12775\n",
       "H       12743\n",
       "F       11717\n",
       "E       11303\n",
       "W        9197\n",
       "Y        8490\n",
       "X        6292\n",
       "B        6169\n",
       "O        5836\n",
       "D        3974\n",
       "C        3575\n",
       "N        2166\n",
       "RARE      159\n",
       "Name: ord_4, dtype: int64"
      ]
     },
     "execution_count": 175,
     "metadata": {},
     "output_type": "execute_result"
    }
   ],
   "source": [
    "df.ord_4.value_counts()"
   ]
  },
  {
   "cell_type": "code",
   "execution_count": null,
   "id": "b850001a",
   "metadata": {},
   "outputs": [],
   "source": []
  }
 ],
 "metadata": {
  "kernelspec": {
   "display_name": "Python 3 (ipykernel)",
   "language": "python",
   "name": "python3"
  },
  "language_info": {
   "codemirror_mode": {
    "name": "ipython",
    "version": 3
   },
   "file_extension": ".py",
   "mimetype": "text/x-python",
   "name": "python",
   "nbconvert_exporter": "python",
   "pygments_lexer": "ipython3",
   "version": "3.9.13"
  }
 },
 "nbformat": 4,
 "nbformat_minor": 5
}
